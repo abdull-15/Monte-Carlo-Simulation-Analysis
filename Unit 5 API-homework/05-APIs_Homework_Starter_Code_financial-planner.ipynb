{
 "cells": [
  {
   "cell_type": "markdown",
   "metadata": {},
   "source": [
    "# Unit 5 - Financial Planning\n"
   ]
  },
  {
   "cell_type": "code",
   "execution_count": 13,
   "metadata": {},
   "outputs": [],
   "source": [
    "# Initial imports\n",
    "import os\n",
    "import requests\n",
    "import pandas as pd\n",
    "from dotenv import load_dotenv\n",
    "import alpaca_trade_api as tradeapi\n",
    "import sys\n",
    "sys.path.append(\"z Class assignments/12.17.2020/MCsimulation.py\")\n",
    "from MCsimulation import MCSimulation\n",
    "import json\n",
    "\n",
    "%matplotlib inline"
   ]
  },
  {
   "cell_type": "code",
   "execution_count": 14,
   "metadata": {},
   "outputs": [
    {
     "data": {
      "text/plain": [
       "True"
      ]
     },
     "execution_count": 14,
     "metadata": {},
     "output_type": "execute_result"
    }
   ],
   "source": [
    "# Load .env enviroment variables\n",
    "load_dotenv()"
   ]
  },
  {
   "cell_type": "markdown",
   "metadata": {},
   "source": [
    "## Part 1 - Personal Finance Planner"
   ]
  },
  {
   "cell_type": "markdown",
   "metadata": {},
   "source": [
    "### Collect Crypto Prices Using the `requests` Library"
   ]
  },
  {
   "cell_type": "code",
   "execution_count": 15,
   "metadata": {},
   "outputs": [],
   "source": [
    "# Set current amount of crypto assets\n",
    "my_btc= 1.2\n",
    "my_eth= 5.3\n"
   ]
  },
  {
   "cell_type": "code",
   "execution_count": 16,
   "metadata": {},
   "outputs": [],
   "source": [
    "# Crypto API URLs\n",
    "btc_url = \"https://api.alternative.me/v2/ticker/Bitcoin/?convert=CAD\"\n",
    "eth_url = \"https://api.alternative.me/v2/ticker/Ethereum/?convert=CAD\""
   ]
  },
  {
   "cell_type": "code",
   "execution_count": 29,
   "metadata": {},
   "outputs": [
    {
     "name": "stdout",
     "output_type": "stream",
     "text": [
      "35121.0\n",
      "1119.89\n",
      "The current value of your 1.2 BTC is $42145.20\n",
      "The current value of your 5.3 ETH is $5935.42\n"
     ]
    }
   ],
   "source": [
    "# Fetch current BTC price\n",
    "btc_response= requests.get(btc_url)\n",
    "btc_data= btc_response.json()\n",
    "# print(btc_data) to find price\n",
    "btc_price= btc_data[\"data\"][\"1\"][\"quotes\"][\"USD\"][\"price\"]\n",
    "print(btc_price)\n",
    "\n",
    "# Fetch current ETH price\n",
    "eth_response=requests.get(eth_url)\n",
    "eth_data=eth_response.json()\n",
    "# print(eth_data) to find price\n",
    "eth_price= eth_data[\"data\"][\"1027\"][\"quotes\"][\"USD\"][\"price\"]\n",
    "print(eth_price)\n",
    "\n",
    "# Compute current value of my crpto\n",
    "my_btc_value= my_btc*btc_price\n",
    "my_eth_value= my_eth*eth_price\n",
    "\n",
    "# Print current crypto wallet balance\n",
    "print(f\"The current value of your {my_btc} BTC is ${my_btc_value:0.2f}\")\n",
    "print(f\"The current value of your {my_eth} ETH is ${my_eth_value:0.2f}\")\n"
   ]
  },
  {
   "cell_type": "markdown",
   "metadata": {},
   "source": [
    "### Collect Investments Data Using Alpaca: `SPY` (stocks) and `AGG` (bonds)"
   ]
  },
  {
   "cell_type": "code",
   "execution_count": 30,
   "metadata": {},
   "outputs": [],
   "source": [
    "# Current amount of shares\n",
    "my_agg=200\n",
    "my_spy=50"
   ]
  },
  {
   "cell_type": "code",
   "execution_count": 32,
   "metadata": {},
   "outputs": [],
   "source": [
    "# Set Alpaca API key and secret\n",
    "alpaca_api_key = os.getenv(\"ALPACA_API_KEY\")\n",
    "alpaca_secret_key = os.getenv(\"ALPACA_SECRET_KEY\")\n",
    "\n",
    "# Create the Alpaca API object\n",
    "alpaca = tradeapi.REST(\n",
    "    alpaca_api_key,\n",
    "    alpaca_secret_key,\n",
    "    api_version = \"v2\"\n",
    ")"
   ]
  },
  {
   "cell_type": "code",
   "execution_count": 36,
   "metadata": {},
   "outputs": [
    {
     "name": "stdout",
     "output_type": "stream",
     "text": [
      "               AGG                                      SPY                 \\\n",
      "              open    high     low    close   volume   open   high     low   \n",
      "2021-01-05  118.06  118.06  117.75  117.915  5915389  368.1  372.5  368.05   \n",
      "\n",
      "                              \n",
      "             close    volume  \n",
      "2021-01-05  371.32  53668865  \n"
     ]
    }
   ],
   "source": [
    "# Format current date as ISO format\n",
    "today = pd.Timestamp(\"2021-01-05\", tz=\"America/New_York\").isoformat()\n",
    "\n",
    "# Set the tickers\n",
    "tickers = [\"AGG\", \"SPY\"]\n",
    "\n",
    "# Set timeframe to '1D' for Alpaca API\n",
    "timeframe = \"1D\"\n",
    "\n",
    "# Get current closing prices for SPY and AGG\n",
    "investments_df = alpaca.get_barset(\n",
    "    tickers,\n",
    "    timeframe,\n",
    "    start = today,\n",
    "    end = today\n",
    ").df\n",
    "investments_df.index = investments_df.index.date\n",
    "# Preview DataFrame\n",
    "print(investments_df)"
   ]
  },
  {
   "cell_type": "code",
   "execution_count": 38,
   "metadata": {},
   "outputs": [
    {
     "name": "stdout",
     "output_type": "stream",
     "text": [
      "Current AGG closing price: $117.915\n",
      "Current SPY closing price: $371.32\n"
     ]
    }
   ],
   "source": [
    "# Pick AGG and SPY close prices\n",
    "agg_closing_price = float(investments_df[\"AGG\"][\"close\"])\n",
    "spy_closing_price = float(investments_df[\"SPY\"][\"close\"])\n",
    "# Print AGG and SPY close prices\n",
    "print(f\"Current AGG closing price: ${agg_closing_price}\")\n",
    "print(f\"Current SPY closing price: ${spy_closing_price}\")"
   ]
  },
  {
   "cell_type": "code",
   "execution_count": 63,
   "metadata": {},
   "outputs": [
    {
     "name": "stdout",
     "output_type": "stream",
     "text": [
      "The current value of your 50 SPY shares is $18566.00\n",
      "The current value of your 200 AGG shares is $23583.00\n"
     ]
    }
   ],
   "source": [
    "# Compute the current value of shares\n",
    "# YOUR CODE HERE!\n",
    "my_agg_value = my_agg*agg_closing_price\n",
    "my_spy_value = my_spy*spy_closing_price\n",
    "# Print current value of share\n",
    "print(f\"The current value of your {my_spy} SPY shares is ${my_spy_value:0.2f}\")\n",
    "print(f\"The current value of your {my_agg} AGG shares is ${my_agg_value:0.2f}\")"
   ]
  },
  {
   "cell_type": "markdown",
   "metadata": {},
   "source": [
    "### Savings Health Analysis"
   ]
  },
  {
   "cell_type": "code",
   "execution_count": 68,
   "metadata": {},
   "outputs": [
    {
     "data": {
      "text/html": [
       "<div>\n",
       "<style scoped>\n",
       "    .dataframe tbody tr th:only-of-type {\n",
       "        vertical-align: middle;\n",
       "    }\n",
       "\n",
       "    .dataframe tbody tr th {\n",
       "        vertical-align: top;\n",
       "    }\n",
       "\n",
       "    .dataframe thead th {\n",
       "        text-align: right;\n",
       "    }\n",
       "</style>\n",
       "<table border=\"1\" class=\"dataframe\">\n",
       "  <thead>\n",
       "    <tr style=\"text-align: right;\">\n",
       "      <th></th>\n",
       "      <th>crypto</th>\n",
       "      <th>shares</th>\n",
       "    </tr>\n",
       "  </thead>\n",
       "  <tbody>\n",
       "    <tr>\n",
       "      <th>Total</th>\n",
       "      <td>48080.617</td>\n",
       "      <td>42149.0</td>\n",
       "    </tr>\n",
       "  </tbody>\n",
       "</table>\n",
       "</div>"
      ],
      "text/plain": [
       "          crypto   shares\n",
       "Total  48080.617  42149.0"
      ]
     },
     "metadata": {},
     "output_type": "display_data"
    }
   ],
   "source": [
    "# Set monthly household income\n",
    "monthly_income=12000\n",
    "\n",
    "# Create savings DataFrame\n",
    "crypto_value= my_btc_value+my_eth_value\n",
    "shares_value=my_agg_value+my_spy_value\n",
    "\n",
    "data = {\"crypto\":crypto_value, \"shares\":shares_value}\n",
    "df_savings=pd.DataFrame(data=data, index=[\"Total\"])\n",
    "\n",
    "# Display savings DataFrame\n",
    "display(df_savings)"
   ]
  },
  {
   "cell_type": "code",
   "execution_count": 73,
   "metadata": {},
   "outputs": [
    {
     "data": {
      "text/plain": [
       "<AxesSubplot:title={'center':'Savings Breakdown'}, ylabel='Total'>"
      ]
     },
     "execution_count": 73,
     "metadata": {},
     "output_type": "execute_result"
    },
    {
     "data": {
      "image/png": "[encoded data removed]",
      "text/plain": [
       "<Figure size 432x288 with 1 Axes>"
      ]
     },
     "metadata": {},
     "output_type": "display_data"
    }
   ],
   "source": [
    "# Plot savings pie chart\n",
    "df_savings = df_savings.T\n",
    "\n",
    "df_savings.plot.pie(y= \"Total\", title=\"Savings Breakdown\")\n"
   ]
  },
  {
   "cell_type": "code",
   "execution_count": 76,
   "metadata": {},
   "outputs": [
    {
     "name": "stdout",
     "output_type": "stream",
     "text": [
      "90229.617\n",
      "Coungratulations you have more than enough money in your savings of an additional emergency fund!\n"
     ]
    }
   ],
   "source": [
    "# Set ideal emergency fund\n",
    "emergency_fund = monthly_income * 3\n",
    "\n",
    "# Calculate total amount of savings\n",
    "total_amount_of_savings= crypto_value+shares_value\n",
    "print(total_amount_of_savings)\n",
    "\n",
    "# Validate saving health\n",
    "required_amount = emergency_fund-total_amount_of_savings\n",
    "if total_amount_of_savings > emergency_fund:\n",
    "    print(\"Coungratulations you have more than enough money in your savings of an additional emergency fund!\")\n",
    "elif total_amount_of_savings == emergency_fund:\n",
    "    print(\"You have the exact amount need for the emergency fund!\")\n",
    "elif total_amount_of_savings < emergency_fund:\n",
    "    print(f\"You need {required_amount} to reach the ideal emergency fund amount!\")"
   ]
  },
  {
   "cell_type": "markdown",
   "metadata": {},
   "source": [
    "## Part 2 - Retirement Planning\n",
    "\n",
    "### Monte Carlo Simulation"
   ]
  },
  {
   "cell_type": "code",
   "execution_count": 78,
   "metadata": {},
   "outputs": [],
   "source": [
    "# Set start and end dates of five years back from today.\n",
    "# Sample results may vary from the solution based on the time frame chosen\n",
    "start_date = pd.Timestamp('2016-01-04', tz='America/New_York').isoformat()\n",
    "end_date = pd.Timestamp('2021-01-05', tz='America/New_York').isoformat()"
   ]
  },
  {
   "cell_type": "code",
   "execution_count": 79,
   "metadata": {},
   "outputs": [
    {
     "data": {
      "text/html": [
       "<div>\n",
       "<style scoped>\n",
       "    .dataframe tbody tr th:only-of-type {\n",
       "        vertical-align: middle;\n",
       "    }\n",
       "\n",
       "    .dataframe tbody tr th {\n",
       "        vertical-align: top;\n",
       "    }\n",
       "\n",
       "    .dataframe thead tr th {\n",
       "        text-align: left;\n",
       "    }\n",
       "\n",
       "    .dataframe thead tr:last-of-type th {\n",
       "        text-align: right;\n",
       "    }\n",
       "</style>\n",
       "<table border=\"1\" class=\"dataframe\">\n",
       "  <thead>\n",
       "    <tr>\n",
       "      <th></th>\n",
       "      <th colspan=\"5\" halign=\"left\">AGG</th>\n",
       "      <th colspan=\"5\" halign=\"left\">SPY</th>\n",
       "    </tr>\n",
       "    <tr>\n",
       "      <th></th>\n",
       "      <th>open</th>\n",
       "      <th>high</th>\n",
       "      <th>low</th>\n",
       "      <th>close</th>\n",
       "      <th>volume</th>\n",
       "      <th>open</th>\n",
       "      <th>high</th>\n",
       "      <th>low</th>\n",
       "      <th>close</th>\n",
       "      <th>volume</th>\n",
       "    </tr>\n",
       "    <tr>\n",
       "      <th>time</th>\n",
       "      <th></th>\n",
       "      <th></th>\n",
       "      <th></th>\n",
       "      <th></th>\n",
       "      <th></th>\n",
       "      <th></th>\n",
       "      <th></th>\n",
       "      <th></th>\n",
       "      <th></th>\n",
       "      <th></th>\n",
       "    </tr>\n",
       "  </thead>\n",
       "  <tbody>\n",
       "    <tr>\n",
       "      <th>2016-01-04 00:00:00-05:00</th>\n",
       "      <td>108.09</td>\n",
       "      <td>108.29</td>\n",
       "      <td>107.93</td>\n",
       "      <td>107.99</td>\n",
       "      <td>3427605.0</td>\n",
       "      <td>200.50</td>\n",
       "      <td>201.03</td>\n",
       "      <td>198.59</td>\n",
       "      <td>200.99</td>\n",
       "      <td>151908002</td>\n",
       "    </tr>\n",
       "    <tr>\n",
       "      <th>2016-01-05 00:00:00-05:00</th>\n",
       "      <td>107.87</td>\n",
       "      <td>108.12</td>\n",
       "      <td>107.87</td>\n",
       "      <td>108.02</td>\n",
       "      <td>2564401.0</td>\n",
       "      <td>201.40</td>\n",
       "      <td>201.90</td>\n",
       "      <td>200.05</td>\n",
       "      <td>201.43</td>\n",
       "      <td>90242524</td>\n",
       "    </tr>\n",
       "    <tr>\n",
       "      <th>2016-01-06 00:00:00-05:00</th>\n",
       "      <td>108.34</td>\n",
       "      <td>108.46</td>\n",
       "      <td>108.22</td>\n",
       "      <td>108.43</td>\n",
       "      <td>2674241.0</td>\n",
       "      <td>198.34</td>\n",
       "      <td>200.06</td>\n",
       "      <td>197.60</td>\n",
       "      <td>198.79</td>\n",
       "      <td>118917648</td>\n",
       "    </tr>\n",
       "    <tr>\n",
       "      <th>2016-01-07 00:00:00-05:00</th>\n",
       "      <td>108.40</td>\n",
       "      <td>108.47</td>\n",
       "      <td>108.21</td>\n",
       "      <td>108.43</td>\n",
       "      <td>2267940.0</td>\n",
       "      <td>195.33</td>\n",
       "      <td>198.82</td>\n",
       "      <td>193.59</td>\n",
       "      <td>194.01</td>\n",
       "      <td>174230042</td>\n",
       "    </tr>\n",
       "    <tr>\n",
       "      <th>2016-01-08 00:00:00-05:00</th>\n",
       "      <td>108.57</td>\n",
       "      <td>108.71</td>\n",
       "      <td>108.35</td>\n",
       "      <td>108.67</td>\n",
       "      <td>3775874.0</td>\n",
       "      <td>195.19</td>\n",
       "      <td>195.85</td>\n",
       "      <td>191.58</td>\n",
       "      <td>191.89</td>\n",
       "      <td>157703921</td>\n",
       "    </tr>\n",
       "  </tbody>\n",
       "</table>\n",
       "</div>"
      ],
      "text/plain": [
       "                              AGG                                        SPY  \\\n",
       "                             open    high     low   close     volume    open   \n",
       "time                                                                           \n",
       "2016-01-04 00:00:00-05:00  108.09  108.29  107.93  107.99  3427605.0  200.50   \n",
       "2016-01-05 00:00:00-05:00  107.87  108.12  107.87  108.02  2564401.0  201.40   \n",
       "2016-01-06 00:00:00-05:00  108.34  108.46  108.22  108.43  2674241.0  198.34   \n",
       "2016-01-07 00:00:00-05:00  108.40  108.47  108.21  108.43  2267940.0  195.33   \n",
       "2016-01-08 00:00:00-05:00  108.57  108.71  108.35  108.67  3775874.0  195.19   \n",
       "\n",
       "                                                              \n",
       "                             high     low   close     volume  \n",
       "time                                                          \n",
       "2016-01-04 00:00:00-05:00  201.03  198.59  200.99  151908002  \n",
       "2016-01-05 00:00:00-05:00  201.90  200.05  201.43   90242524  \n",
       "2016-01-06 00:00:00-05:00  200.06  197.60  198.79  118917648  \n",
       "2016-01-07 00:00:00-05:00  198.82  193.59  194.01  174230042  \n",
       "2016-01-08 00:00:00-05:00  195.85  191.58  191.89  157703921  "
      ]
     },
     "execution_count": 79,
     "metadata": {},
     "output_type": "execute_result"
    }
   ],
   "source": [
    "# Get 5 years' worth of historical data for SPY and AGG\n",
    "# YOUR CODE HERE!\n",
    "df_data = alpaca.get_barset(\n",
    "    tickers,\n",
    "    timeframe,\n",
    "    start=start_date,\n",
    "    end=end_date\n",
    ").df\n",
    "\n",
    "# Display sample data\n",
    "df_data.head()"
   ]
  },
  {
   "cell_type": "code",
   "execution_count": 81,
   "metadata": {},
   "outputs": [],
   "source": [
    "# Configuring a Monte Carlo simulation to forecast 30 years cumulative returns\n",
    "thirty_year_sim = MCSimulation(\n",
    "    portfolio_data = df_data,\n",
    "    weights = [.40,.60],\n",
    "    num_simulation = 500,\n",
    "    num_trading_days = 7560\n",
    ")"
   ]
  },
  {
   "cell_type": "code",
   "execution_count": 83,
   "metadata": {},
   "outputs": [
    {
     "data": {
      "text/html": [
       "<div>\n",
       "<style scoped>\n",
       "    .dataframe tbody tr th:only-of-type {\n",
       "        vertical-align: middle;\n",
       "    }\n",
       "\n",
       "    .dataframe tbody tr th {\n",
       "        vertical-align: top;\n",
       "    }\n",
       "\n",
       "    .dataframe thead tr th {\n",
       "        text-align: left;\n",
       "    }\n",
       "\n",
       "    .dataframe thead tr:last-of-type th {\n",
       "        text-align: right;\n",
       "    }\n",
       "</style>\n",
       "<table border=\"1\" class=\"dataframe\">\n",
       "  <thead>\n",
       "    <tr>\n",
       "      <th></th>\n",
       "      <th colspan=\"6\" halign=\"left\">AGG</th>\n",
       "      <th colspan=\"6\" halign=\"left\">SPY</th>\n",
       "    </tr>\n",
       "    <tr>\n",
       "      <th></th>\n",
       "      <th>open</th>\n",
       "      <th>high</th>\n",
       "      <th>low</th>\n",
       "      <th>close</th>\n",
       "      <th>volume</th>\n",
       "      <th>daily_return</th>\n",
       "      <th>open</th>\n",
       "      <th>high</th>\n",
       "      <th>low</th>\n",
       "      <th>close</th>\n",
       "      <th>volume</th>\n",
       "      <th>daily_return</th>\n",
       "    </tr>\n",
       "    <tr>\n",
       "      <th>time</th>\n",
       "      <th></th>\n",
       "      <th></th>\n",
       "      <th></th>\n",
       "      <th></th>\n",
       "      <th></th>\n",
       "      <th></th>\n",
       "      <th></th>\n",
       "      <th></th>\n",
       "      <th></th>\n",
       "      <th></th>\n",
       "      <th></th>\n",
       "      <th></th>\n",
       "    </tr>\n",
       "  </thead>\n",
       "  <tbody>\n",
       "    <tr>\n",
       "      <th>2016-01-04 00:00:00-05:00</th>\n",
       "      <td>108.09</td>\n",
       "      <td>108.29</td>\n",
       "      <td>107.93</td>\n",
       "      <td>107.99</td>\n",
       "      <td>3427605.0</td>\n",
       "      <td>NaN</td>\n",
       "      <td>200.50</td>\n",
       "      <td>201.03</td>\n",
       "      <td>198.59</td>\n",
       "      <td>200.99</td>\n",
       "      <td>151908002</td>\n",
       "      <td>NaN</td>\n",
       "    </tr>\n",
       "    <tr>\n",
       "      <th>2016-01-05 00:00:00-05:00</th>\n",
       "      <td>107.87</td>\n",
       "      <td>108.12</td>\n",
       "      <td>107.87</td>\n",
       "      <td>108.02</td>\n",
       "      <td>2564401.0</td>\n",
       "      <td>0.000278</td>\n",
       "      <td>201.40</td>\n",
       "      <td>201.90</td>\n",
       "      <td>200.05</td>\n",
       "      <td>201.43</td>\n",
       "      <td>90242524</td>\n",
       "      <td>0.002189</td>\n",
       "    </tr>\n",
       "    <tr>\n",
       "      <th>2016-01-06 00:00:00-05:00</th>\n",
       "      <td>108.34</td>\n",
       "      <td>108.46</td>\n",
       "      <td>108.22</td>\n",
       "      <td>108.43</td>\n",
       "      <td>2674241.0</td>\n",
       "      <td>0.003796</td>\n",
       "      <td>198.34</td>\n",
       "      <td>200.06</td>\n",
       "      <td>197.60</td>\n",
       "      <td>198.79</td>\n",
       "      <td>118917648</td>\n",
       "      <td>-0.013106</td>\n",
       "    </tr>\n",
       "    <tr>\n",
       "      <th>2016-01-07 00:00:00-05:00</th>\n",
       "      <td>108.40</td>\n",
       "      <td>108.47</td>\n",
       "      <td>108.21</td>\n",
       "      <td>108.43</td>\n",
       "      <td>2267940.0</td>\n",
       "      <td>0.000000</td>\n",
       "      <td>195.33</td>\n",
       "      <td>198.82</td>\n",
       "      <td>193.59</td>\n",
       "      <td>194.01</td>\n",
       "      <td>174230042</td>\n",
       "      <td>-0.024045</td>\n",
       "    </tr>\n",
       "    <tr>\n",
       "      <th>2016-01-08 00:00:00-05:00</th>\n",
       "      <td>108.57</td>\n",
       "      <td>108.71</td>\n",
       "      <td>108.35</td>\n",
       "      <td>108.67</td>\n",
       "      <td>3775874.0</td>\n",
       "      <td>0.002213</td>\n",
       "      <td>195.19</td>\n",
       "      <td>195.85</td>\n",
       "      <td>191.58</td>\n",
       "      <td>191.89</td>\n",
       "      <td>157703921</td>\n",
       "      <td>-0.010927</td>\n",
       "    </tr>\n",
       "  </tbody>\n",
       "</table>\n",
       "</div>"
      ],
      "text/plain": [
       "                              AGG                                     \\\n",
       "                             open    high     low   close     volume   \n",
       "time                                                                   \n",
       "2016-01-04 00:00:00-05:00  108.09  108.29  107.93  107.99  3427605.0   \n",
       "2016-01-05 00:00:00-05:00  107.87  108.12  107.87  108.02  2564401.0   \n",
       "2016-01-06 00:00:00-05:00  108.34  108.46  108.22  108.43  2674241.0   \n",
       "2016-01-07 00:00:00-05:00  108.40  108.47  108.21  108.43  2267940.0   \n",
       "2016-01-08 00:00:00-05:00  108.57  108.71  108.35  108.67  3775874.0   \n",
       "\n",
       "                                           SPY                          \\\n",
       "                          daily_return    open    high     low   close   \n",
       "time                                                                     \n",
       "2016-01-04 00:00:00-05:00          NaN  200.50  201.03  198.59  200.99   \n",
       "2016-01-05 00:00:00-05:00     0.000278  201.40  201.90  200.05  201.43   \n",
       "2016-01-06 00:00:00-05:00     0.003796  198.34  200.06  197.60  198.79   \n",
       "2016-01-07 00:00:00-05:00     0.000000  195.33  198.82  193.59  194.01   \n",
       "2016-01-08 00:00:00-05:00     0.002213  195.19  195.85  191.58  191.89   \n",
       "\n",
       "                                                   \n",
       "                              volume daily_return  \n",
       "time                                               \n",
       "2016-01-04 00:00:00-05:00  151908002          NaN  \n",
       "2016-01-05 00:00:00-05:00   90242524     0.002189  \n",
       "2016-01-06 00:00:00-05:00  118917648    -0.013106  \n",
       "2016-01-07 00:00:00-05:00  174230042    -0.024045  \n",
       "2016-01-08 00:00:00-05:00  157703921    -0.010927  "
      ]
     },
     "execution_count": 83,
     "metadata": {},
     "output_type": "execute_result"
    }
   ],
   "source": [
    "# Printing the simulation input data\n",
    "thirty_year_sim.portfolio_data.head()"
   ]
  },
  {
   "cell_type": "code",
   "execution_count": 84,
   "metadata": {},
   "outputs": [
    {
     "name": "stdout",
     "output_type": "stream",
     "text": [
      "Running Monte Carlo simulation number 0.\n",
      "Running Monte Carlo simulation number 10.\n",
      "Running Monte Carlo simulation number 20.\n",
      "Running Monte Carlo simulation number 30.\n",
      "Running Monte Carlo simulation number 40.\n",
      "Running Monte Carlo simulation number 50.\n",
      "Running Monte Carlo simulation number 60.\n",
      "Running Monte Carlo simulation number 70.\n",
      "Running Monte Carlo simulation number 80.\n",
      "Running Monte Carlo simulation number 90.\n",
      "Running Monte Carlo simulation number 100.\n",
      "Running Monte Carlo simulation number 110.\n",
      "Running Monte Carlo simulation number 120.\n",
      "Running Monte Carlo simulation number 130.\n",
      "Running Monte Carlo simulation number 140.\n",
      "Running Monte Carlo simulation number 150.\n",
      "Running Monte Carlo simulation number 160.\n",
      "Running Monte Carlo simulation number 170.\n",
      "Running Monte Carlo simulation number 180.\n",
      "Running Monte Carlo simulation number 190.\n",
      "Running Monte Carlo simulation number 200.\n",
      "Running Monte Carlo simulation number 210.\n",
      "Running Monte Carlo simulation number 220.\n",
      "Running Monte Carlo simulation number 230.\n",
      "Running Monte Carlo simulation number 240.\n",
      "Running Monte Carlo simulation number 250.\n",
      "Running Monte Carlo simulation number 260.\n",
      "Running Monte Carlo simulation number 270.\n",
      "Running Monte Carlo simulation number 280.\n",
      "Running Monte Carlo simulation number 290.\n",
      "Running Monte Carlo simulation number 300.\n",
      "Running Monte Carlo simulation number 310.\n",
      "Running Monte Carlo simulation number 320.\n",
      "Running Monte Carlo simulation number 330.\n",
      "Running Monte Carlo simulation number 340.\n",
      "Running Monte Carlo simulation number 350.\n",
      "Running Monte Carlo simulation number 360.\n",
      "Running Monte Carlo simulation number 370.\n",
      "Running Monte Carlo simulation number 380.\n",
      "Running Monte Carlo simulation number 390.\n",
      "Running Monte Carlo simulation number 400.\n",
      "Running Monte Carlo simulation number 410.\n",
      "Running Monte Carlo simulation number 420.\n",
      "Running Monte Carlo simulation number 430.\n",
      "Running Monte Carlo simulation number 440.\n",
      "Running Monte Carlo simulation number 450.\n",
      "Running Monte Carlo simulation number 460.\n",
      "Running Monte Carlo simulation number 470.\n",
      "Running Monte Carlo simulation number 480.\n",
      "Running Monte Carlo simulation number 490.\n"
     ]
    },
    {
     "data": {
      "text/html": [
       "<div>\n",
       "<style scoped>\n",
       "    .dataframe tbody tr th:only-of-type {\n",
       "        vertical-align: middle;\n",
       "    }\n",
       "\n",
       "    .dataframe tbody tr th {\n",
       "        vertical-align: top;\n",
       "    }\n",
       "\n",
       "    .dataframe thead th {\n",
       "        text-align: right;\n",
       "    }\n",
       "</style>\n",
       "<table border=\"1\" class=\"dataframe\">\n",
       "  <thead>\n",
       "    <tr style=\"text-align: right;\">\n",
       "      <th></th>\n",
       "      <th>0</th>\n",
       "      <th>1</th>\n",
       "      <th>2</th>\n",
       "      <th>3</th>\n",
       "      <th>4</th>\n",
       "      <th>5</th>\n",
       "      <th>6</th>\n",
       "      <th>7</th>\n",
       "      <th>8</th>\n",
       "      <th>9</th>\n",
       "      <th>...</th>\n",
       "      <th>490</th>\n",
       "      <th>491</th>\n",
       "      <th>492</th>\n",
       "      <th>493</th>\n",
       "      <th>494</th>\n",
       "      <th>495</th>\n",
       "      <th>496</th>\n",
       "      <th>497</th>\n",
       "      <th>498</th>\n",
       "      <th>499</th>\n",
       "    </tr>\n",
       "  </thead>\n",
       "  <tbody>\n",
       "    <tr>\n",
       "      <th>0</th>\n",
       "      <td>1.000000</td>\n",
       "      <td>1.000000</td>\n",
       "      <td>1.000000</td>\n",
       "      <td>1.000000</td>\n",
       "      <td>1.000000</td>\n",
       "      <td>1.000000</td>\n",
       "      <td>1.000000</td>\n",
       "      <td>1.000000</td>\n",
       "      <td>1.000000</td>\n",
       "      <td>1.000000</td>\n",
       "      <td>...</td>\n",
       "      <td>1.000000</td>\n",
       "      <td>1.000000</td>\n",
       "      <td>1.000000</td>\n",
       "      <td>1.000000</td>\n",
       "      <td>1.000000</td>\n",
       "      <td>1.000000</td>\n",
       "      <td>1.000000</td>\n",
       "      <td>1.000000</td>\n",
       "      <td>1.000000</td>\n",
       "      <td>1.000000</td>\n",
       "    </tr>\n",
       "    <tr>\n",
       "      <th>1</th>\n",
       "      <td>1.011516</td>\n",
       "      <td>0.999847</td>\n",
       "      <td>0.996300</td>\n",
       "      <td>1.005176</td>\n",
       "      <td>1.012363</td>\n",
       "      <td>1.005725</td>\n",
       "      <td>1.010366</td>\n",
       "      <td>0.997733</td>\n",
       "      <td>0.999329</td>\n",
       "      <td>1.002235</td>\n",
       "      <td>...</td>\n",
       "      <td>1.009992</td>\n",
       "      <td>1.003269</td>\n",
       "      <td>1.006200</td>\n",
       "      <td>1.007721</td>\n",
       "      <td>0.994925</td>\n",
       "      <td>0.989992</td>\n",
       "      <td>1.005683</td>\n",
       "      <td>1.015581</td>\n",
       "      <td>0.993962</td>\n",
       "      <td>0.996322</td>\n",
       "    </tr>\n",
       "    <tr>\n",
       "      <th>2</th>\n",
       "      <td>1.024210</td>\n",
       "      <td>0.999634</td>\n",
       "      <td>1.000883</td>\n",
       "      <td>0.999261</td>\n",
       "      <td>1.007216</td>\n",
       "      <td>1.004473</td>\n",
       "      <td>1.005769</td>\n",
       "      <td>0.992978</td>\n",
       "      <td>1.003779</td>\n",
       "      <td>0.997567</td>\n",
       "      <td>...</td>\n",
       "      <td>1.019507</td>\n",
       "      <td>1.010251</td>\n",
       "      <td>1.014465</td>\n",
       "      <td>1.012072</td>\n",
       "      <td>0.991427</td>\n",
       "      <td>0.986823</td>\n",
       "      <td>1.005762</td>\n",
       "      <td>1.016649</td>\n",
       "      <td>0.999565</td>\n",
       "      <td>1.008432</td>\n",
       "    </tr>\n",
       "    <tr>\n",
       "      <th>3</th>\n",
       "      <td>1.023823</td>\n",
       "      <td>1.005891</td>\n",
       "      <td>1.005745</td>\n",
       "      <td>1.009818</td>\n",
       "      <td>0.998944</td>\n",
       "      <td>1.009842</td>\n",
       "      <td>1.000793</td>\n",
       "      <td>1.004940</td>\n",
       "      <td>0.997111</td>\n",
       "      <td>1.000587</td>\n",
       "      <td>...</td>\n",
       "      <td>1.023621</td>\n",
       "      <td>1.009056</td>\n",
       "      <td>1.021385</td>\n",
       "      <td>0.998075</td>\n",
       "      <td>0.992969</td>\n",
       "      <td>0.983141</td>\n",
       "      <td>1.008883</td>\n",
       "      <td>1.001999</td>\n",
       "      <td>1.001847</td>\n",
       "      <td>1.012697</td>\n",
       "    </tr>\n",
       "    <tr>\n",
       "      <th>4</th>\n",
       "      <td>1.024092</td>\n",
       "      <td>1.007205</td>\n",
       "      <td>1.001423</td>\n",
       "      <td>1.015122</td>\n",
       "      <td>1.004796</td>\n",
       "      <td>0.996071</td>\n",
       "      <td>0.993415</td>\n",
       "      <td>1.006347</td>\n",
       "      <td>0.984937</td>\n",
       "      <td>1.004839</td>\n",
       "      <td>...</td>\n",
       "      <td>1.024419</td>\n",
       "      <td>0.995454</td>\n",
       "      <td>1.023959</td>\n",
       "      <td>1.013767</td>\n",
       "      <td>0.982730</td>\n",
       "      <td>0.975087</td>\n",
       "      <td>1.010217</td>\n",
       "      <td>0.995652</td>\n",
       "      <td>0.996804</td>\n",
       "      <td>1.016490</td>\n",
       "    </tr>\n",
       "    <tr>\n",
       "      <th>...</th>\n",
       "      <td>...</td>\n",
       "      <td>...</td>\n",
       "      <td>...</td>\n",
       "      <td>...</td>\n",
       "      <td>...</td>\n",
       "      <td>...</td>\n",
       "      <td>...</td>\n",
       "      <td>...</td>\n",
       "      <td>...</td>\n",
       "      <td>...</td>\n",
       "      <td>...</td>\n",
       "      <td>...</td>\n",
       "      <td>...</td>\n",
       "      <td>...</td>\n",
       "      <td>...</td>\n",
       "      <td>...</td>\n",
       "      <td>...</td>\n",
       "      <td>...</td>\n",
       "      <td>...</td>\n",
       "      <td>...</td>\n",
       "      <td>...</td>\n",
       "    </tr>\n",
       "    <tr>\n",
       "      <th>7556</th>\n",
       "      <td>6.791843</td>\n",
       "      <td>5.482285</td>\n",
       "      <td>35.216901</td>\n",
       "      <td>30.380245</td>\n",
       "      <td>7.349072</td>\n",
       "      <td>43.995593</td>\n",
       "      <td>6.335106</td>\n",
       "      <td>25.424909</td>\n",
       "      <td>12.501257</td>\n",
       "      <td>16.090337</td>\n",
       "      <td>...</td>\n",
       "      <td>35.291391</td>\n",
       "      <td>3.882725</td>\n",
       "      <td>11.583904</td>\n",
       "      <td>7.308897</td>\n",
       "      <td>8.890863</td>\n",
       "      <td>6.760225</td>\n",
       "      <td>20.983458</td>\n",
       "      <td>5.107533</td>\n",
       "      <td>18.530967</td>\n",
       "      <td>20.516252</td>\n",
       "    </tr>\n",
       "    <tr>\n",
       "      <th>7557</th>\n",
       "      <td>6.733959</td>\n",
       "      <td>5.550371</td>\n",
       "      <td>35.458611</td>\n",
       "      <td>30.130673</td>\n",
       "      <td>7.271357</td>\n",
       "      <td>44.142720</td>\n",
       "      <td>6.312261</td>\n",
       "      <td>25.232117</td>\n",
       "      <td>12.624055</td>\n",
       "      <td>15.947363</td>\n",
       "      <td>...</td>\n",
       "      <td>35.952595</td>\n",
       "      <td>3.899674</td>\n",
       "      <td>11.518990</td>\n",
       "      <td>7.324064</td>\n",
       "      <td>8.884069</td>\n",
       "      <td>6.743148</td>\n",
       "      <td>21.286611</td>\n",
       "      <td>5.151456</td>\n",
       "      <td>18.771191</td>\n",
       "      <td>20.450677</td>\n",
       "    </tr>\n",
       "    <tr>\n",
       "      <th>7558</th>\n",
       "      <td>6.760568</td>\n",
       "      <td>5.506003</td>\n",
       "      <td>35.599884</td>\n",
       "      <td>30.417484</td>\n",
       "      <td>7.224643</td>\n",
       "      <td>44.230261</td>\n",
       "      <td>6.231226</td>\n",
       "      <td>25.291975</td>\n",
       "      <td>12.679629</td>\n",
       "      <td>16.035829</td>\n",
       "      <td>...</td>\n",
       "      <td>35.700676</td>\n",
       "      <td>3.862562</td>\n",
       "      <td>11.739893</td>\n",
       "      <td>7.364744</td>\n",
       "      <td>8.846395</td>\n",
       "      <td>6.790183</td>\n",
       "      <td>21.117003</td>\n",
       "      <td>5.150861</td>\n",
       "      <td>18.616625</td>\n",
       "      <td>20.654886</td>\n",
       "    </tr>\n",
       "    <tr>\n",
       "      <th>7559</th>\n",
       "      <td>6.808595</td>\n",
       "      <td>5.478281</td>\n",
       "      <td>35.203128</td>\n",
       "      <td>30.379152</td>\n",
       "      <td>7.209214</td>\n",
       "      <td>44.070142</td>\n",
       "      <td>6.302839</td>\n",
       "      <td>25.534315</td>\n",
       "      <td>12.773983</td>\n",
       "      <td>16.236582</td>\n",
       "      <td>...</td>\n",
       "      <td>35.726793</td>\n",
       "      <td>3.905381</td>\n",
       "      <td>11.754785</td>\n",
       "      <td>7.328361</td>\n",
       "      <td>8.917357</td>\n",
       "      <td>6.741805</td>\n",
       "      <td>21.102990</td>\n",
       "      <td>5.155254</td>\n",
       "      <td>18.610490</td>\n",
       "      <td>20.776747</td>\n",
       "    </tr>\n",
       "    <tr>\n",
       "      <th>7560</th>\n",
       "      <td>6.846896</td>\n",
       "      <td>5.509650</td>\n",
       "      <td>35.480842</td>\n",
       "      <td>30.334650</td>\n",
       "      <td>7.175431</td>\n",
       "      <td>43.879242</td>\n",
       "      <td>6.280108</td>\n",
       "      <td>25.397623</td>\n",
       "      <td>12.705477</td>\n",
       "      <td>16.147955</td>\n",
       "      <td>...</td>\n",
       "      <td>35.703340</td>\n",
       "      <td>3.929275</td>\n",
       "      <td>11.761489</td>\n",
       "      <td>7.417909</td>\n",
       "      <td>8.956302</td>\n",
       "      <td>6.847837</td>\n",
       "      <td>21.050551</td>\n",
       "      <td>5.182727</td>\n",
       "      <td>18.516528</td>\n",
       "      <td>20.976952</td>\n",
       "    </tr>\n",
       "  </tbody>\n",
       "</table>\n",
       "<p>7561 rows × 500 columns</p>\n",
       "</div>"
      ],
      "text/plain": [
       "           0         1          2          3         4          5         6    \\\n",
       "0     1.000000  1.000000   1.000000   1.000000  1.000000   1.000000  1.000000   \n",
       "1     1.011516  0.999847   0.996300   1.005176  1.012363   1.005725  1.010366   \n",
       "2     1.024210  0.999634   1.000883   0.999261  1.007216   1.004473  1.005769   \n",
       "3     1.023823  1.005891   1.005745   1.009818  0.998944   1.009842  1.000793   \n",
       "4     1.024092  1.007205   1.001423   1.015122  1.004796   0.996071  0.993415   \n",
       "...        ...       ...        ...        ...       ...        ...       ...   \n",
       "7556  6.791843  5.482285  35.216901  30.380245  7.349072  43.995593  6.335106   \n",
       "7557  6.733959  5.550371  35.458611  30.130673  7.271357  44.142720  6.312261   \n",
       "7558  6.760568  5.506003  35.599884  30.417484  7.224643  44.230261  6.231226   \n",
       "7559  6.808595  5.478281  35.203128  30.379152  7.209214  44.070142  6.302839   \n",
       "7560  6.846896  5.509650  35.480842  30.334650  7.175431  43.879242  6.280108   \n",
       "\n",
       "            7          8          9    ...        490       491        492  \\\n",
       "0      1.000000   1.000000   1.000000  ...   1.000000  1.000000   1.000000   \n",
       "1      0.997733   0.999329   1.002235  ...   1.009992  1.003269   1.006200   \n",
       "2      0.992978   1.003779   0.997567  ...   1.019507  1.010251   1.014465   \n",
       "3      1.004940   0.997111   1.000587  ...   1.023621  1.009056   1.021385   \n",
       "4      1.006347   0.984937   1.004839  ...   1.024419  0.995454   1.023959   \n",
       "...         ...        ...        ...  ...        ...       ...        ...   \n",
       "7556  25.424909  12.501257  16.090337  ...  35.291391  3.882725  11.583904   \n",
       "7557  25.232117  12.624055  15.947363  ...  35.952595  3.899674  11.518990   \n",
       "7558  25.291975  12.679629  16.035829  ...  35.700676  3.862562  11.739893   \n",
       "7559  25.534315  12.773983  16.236582  ...  35.726793  3.905381  11.754785   \n",
       "7560  25.397623  12.705477  16.147955  ...  35.703340  3.929275  11.761489   \n",
       "\n",
       "           493       494       495        496       497        498        499  \n",
       "0     1.000000  1.000000  1.000000   1.000000  1.000000   1.000000   1.000000  \n",
       "1     1.007721  0.994925  0.989992   1.005683  1.015581   0.993962   0.996322  \n",
       "2     1.012072  0.991427  0.986823   1.005762  1.016649   0.999565   1.008432  \n",
       "3     0.998075  0.992969  0.983141   1.008883  1.001999   1.001847   1.012697  \n",
       "4     1.013767  0.982730  0.975087   1.010217  0.995652   0.996804   1.016490  \n",
       "...        ...       ...       ...        ...       ...        ...        ...  \n",
       "7556  7.308897  8.890863  6.760225  20.983458  5.107533  18.530967  20.516252  \n",
       "7557  7.324064  8.884069  6.743148  21.286611  5.151456  18.771191  20.450677  \n",
       "7558  7.364744  8.846395  6.790183  21.117003  5.150861  18.616625  20.654886  \n",
       "7559  7.328361  8.917357  6.741805  21.102990  5.155254  18.610490  20.776747  \n",
       "7560  7.417909  8.956302  6.847837  21.050551  5.182727  18.516528  20.976952  \n",
       "\n",
       "[7561 rows x 500 columns]"
      ]
     },
     "execution_count": 84,
     "metadata": {},
     "output_type": "execute_result"
    }
   ],
   "source": [
    "# Running a Monte Carlo simulation to forecast 30 years cumulative returns\n",
    "thirty_year_sim.calc_cumulative_return()"
   ]
  },
  {
   "cell_type": "code",
   "execution_count": 89,
   "metadata": {},
   "outputs": [
    {
     "data": {
      "text/plain": [
       "<AxesSubplot:title={'center':'500 Simulations of Cumulative Portfolio Return Trajectories Over the Next 7560 Trading Days.'}>"
      ]
     },
     "execution_count": 89,
     "metadata": {},
     "output_type": "execute_result"
    },
    {
     "data": {
      "image/png": "[encoded data removed]",
      "text/plain": [
       "<Figure size 432x288 with 1 Axes>"
      ]
     },
     "metadata": {
      "needs_background": "light"
     },
     "output_type": "display_data"
    }
   ],
   "source": [
    "# Plot simulation outcomes\n",
    "plot = thirty_year_sim.plot_simulation()\n",
    "plot"
   ]
  },
  {
   "cell_type": "code",
   "execution_count": 88,
   "metadata": {},
   "outputs": [
    {
     "data": {
      "text/plain": [
       "<AxesSubplot:title={'center':'Distribution of Final Cumuluative Returns Across All 500 Simulations'}, ylabel='Frequency'>"
      ]
     },
     "execution_count": 88,
     "metadata": {},
     "output_type": "execute_result"
    },
    {
     "data": {
      "image/png": "[encoded data removed]",
      "text/plain": [
       "<Figure size 432x288 with 1 Axes>"
      ]
     },
     "metadata": {
      "needs_background": "light"
     },
     "output_type": "display_data"
    }
   ],
   "source": [
    "# Plot probability distribution and confidence intervals\n",
    "dist_plot = thirty_year_sim.plot_distribution()\n",
    "dist_plot"
   ]
  },
  {
   "cell_type": "markdown",
   "metadata": {},
   "source": [
    "### Retirement Analysis"
   ]
  },
  {
   "cell_type": "code",
   "execution_count": 91,
   "metadata": {},
   "outputs": [
    {
     "data": {
      "text/plain": [
       "count           500.000000\n",
       "mean             16.004527\n",
       "std              10.691349\n",
       "min               1.941540\n",
       "25%               8.500176\n",
       "50%              13.181005\n",
       "75%              20.541901\n",
       "max              92.697732\n",
       "95% CI Lower      3.789034\n",
       "95% CI Upper     42.416011\n",
       "Name: 7560, dtype: float64"
      ]
     },
     "execution_count": 91,
     "metadata": {},
     "output_type": "execute_result"
    }
   ],
   "source": [
    "# Fetch summary statistics from the Monte Carlo simulation results\n",
    "summary_stats = thirty_year_sim.summarize_cumulative_return()\n",
    "# Print summary statistics\n",
    "summary_stats\n"
   ]
  },
  {
   "cell_type": "markdown",
   "metadata": {},
   "source": [
    "### Calculate the expected portfolio return at the 95% lower and upper confidence intervals based on a `$20,000` initial investment."
   ]
  },
  {
   "cell_type": "code",
   "execution_count": 94,
   "metadata": {},
   "outputs": [
    {
     "name": "stdout",
     "output_type": "stream",
     "text": [
      "There is a 95% chance that an initial investment of $20000 in the portfolio over the next 30 years will end within in the range of $75780.67428545763 and $848320.2201414668\n"
     ]
    }
   ],
   "source": [
    "# Set initial investment\n",
    "initial_investment = 20000\n",
    "\n",
    "# Use the lower and upper `95%` confidence intervals to calculate the range of the possible outcomes of our $20,000\n",
    "ci_lower = summary_stats[8]*initial_investment\n",
    "ci_upper = summary_stats[9]*initial_investment\n",
    "# Print results\n",
    "print(f\"There is a 95% chance that an initial investment of ${initial_investment} in the portfolio\"\n",
    "      f\" over the next 30 years will end within in the range of\"\n",
    "      f\" ${ci_lower} and ${ci_upper}\")"
   ]
  },
  {
   "cell_type": "markdown",
   "metadata": {},
   "source": [
    "### Calculate the expected portfolio return at the `95%` lower and upper confidence intervals based on a `50%` increase in the initial investment."
   ]
  },
  {
   "cell_type": "code",
   "execution_count": 95,
   "metadata": {},
   "outputs": [
    {
     "name": "stdout",
     "output_type": "stream",
     "text": [
      "There is a 95% chance that an initial investment of $30000.0 in the portfolio over the next 30 years will end within in the range of $113671.01142818644 and $1272480.3302122003\n"
     ]
    }
   ],
   "source": [
    "# Set initial investment\n",
    "initial_investment = 20000 * 1.5\n",
    "\n",
    "# Use the lower and upper `95%` confidence intervals to calculate the range of the possible outcomes of our $30,000\n",
    "ci_lower = summary_stats[8]*initial_investment\n",
    "ci_upper = summary_stats[9]*initial_investment\n",
    "\n",
    "# Print results\n",
    "print(f\"There is a 95% chance that an initial investment of ${initial_investment} in the portfolio\"\n",
    "      f\" over the next 30 years will end within in the range of\"\n",
    "      f\" ${ci_lower} and ${ci_upper}\")"
   ]
  }
 ],
 "metadata": {
  "kernelspec": {
   "display_name": "Python 3",
   "language": "python",
   "name": "python3"
  },
  "language_info": {
   "codemirror_mode": {
    "name": "ipython",
    "version": 3
   },
   "file_extension": ".py",
   "mimetype": "text/x-python",
   "name": "python",
   "nbconvert_exporter": "python",
   "pygments_lexer": "ipython3",
   "version": "3.7.9"
  }
 },
 "nbformat": 4,
 "nbformat_minor": 4
}
